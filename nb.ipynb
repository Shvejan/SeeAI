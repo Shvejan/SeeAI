{
 "cells": [
  {
   "cell_type": "code",
   "execution_count": 2,
   "metadata": {},
   "outputs": [
    {
     "name": "stdout",
     "output_type": "stream",
     "text": [
      "WARNING: Representations for images in ./db folder were previously stored in representations_vgg_face.pkl. If you added new instances after the creation, then please delete this file and call find function again. It will create it again.\n",
      "There are  3  representations found in  representations_vgg_face.pkl\n",
      "find function lasts  2.560317277908325  seconds\n"
     ]
    }
   ],
   "source": [
    "import os\n",
    "import shutil\n",
    "def register_new_face(name):\n",
    "\n",
    "    shutil.move(\"./curr_img.png\",f'./db/{name}.png')\n",
    "\n",
    "    if os.path.exists(\"./db/representations_vgg_face.pkl\"):\n",
    "        os.remove(\"./db/representations_vgg_face.pkl\")\n",
    "\n",
    "import cv2\n",
    "from deepface import DeepFace\n",
    "import os\n",
    "import time\n",
    "\n",
    "def identify():\n",
    "\n",
    "    results = DeepFace.find(img_path=\"./multiface.jpg\", db_path=\"./db\", enforce_detection=False)\n",
    "    return(results)\n",
    "\n",
    "faces_are=identify()\n",
    "\n"
   ]
  },
  {
   "cell_type": "code",
   "execution_count": 5,
   "metadata": {},
   "outputs": [
    {
     "data": {
      "text/plain": [
       "0"
      ]
     },
     "execution_count": 5,
     "metadata": {},
     "output_type": "execute_result"
    }
   ],
   "source": [
    "len(faces_are[0])"
   ]
  },
  {
   "cell_type": "code",
   "execution_count": 13,
   "metadata": {},
   "outputs": [
    {
     "data": {
      "text/plain": [
       "'Speaker'"
      ]
     },
     "execution_count": 13,
     "metadata": {},
     "output_type": "execute_result"
    }
   ],
   "source": [
    "faces_are[0]['identity'][0].split(\"/\")[-1].split(\".\")[0]"
   ]
  },
  {
   "cell_type": "code",
   "execution_count": null,
   "metadata": {},
   "outputs": [],
   "source": []
  }
 ],
 "metadata": {
  "kernelspec": {
   "display_name": "gpu-env",
   "language": "python",
   "name": "python3"
  },
  "language_info": {
   "codemirror_mode": {
    "name": "ipython",
    "version": 3
   },
   "file_extension": ".py",
   "mimetype": "text/x-python",
   "name": "python",
   "nbconvert_exporter": "python",
   "pygments_lexer": "ipython3",
   "version": "3.10.1"
  },
  "orig_nbformat": 4
 },
 "nbformat": 4,
 "nbformat_minor": 2
}
